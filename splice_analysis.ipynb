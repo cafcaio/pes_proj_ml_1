{
 "cells": [
  {
   "cell_type": "code",
   "execution_count": 166,
   "id": "a8649291",
   "metadata": {},
   "outputs": [],
   "source": [
    "import numpy as np\n",
    "import pandas as pd\n",
    "import matplotlib.pyplot as plt\n",
    "import seaborn as sns\n",
    "import openml\n",
    "\n",
    "plt.style.use('ggplot')\n",
    "\n",
    "#random_state\n",
    "rs = 321"
   ]
  },
  {
   "cell_type": "markdown",
   "id": "0b4b4646",
   "metadata": {},
   "source": [
    "# Trabalho de Aprendizagem de Máquina I (PES Embraer)\n",
    "Alunos: Caio Costa e Jonas Rodrigues\n",
    "\n",
    "**Do Classroom:**\n",
    "\n",
    "Seguem algumas instruções para realizar os experimentos:\n",
    "\n",
    "- selecionar um banco de dados do OpenML (https://www.openml.org/)\n",
    "    - o banco de dados de classificação deve ter: > 3 classes, >10 atributos e >1000 instâncias\n",
    "    - cada dupla deve informar qual banco de dados usará com antecedência\n",
    "- 10-fold cross-validation\n",
    "- avaliar máquinas de aprendizagem: kNN, DT, MLP, NB, SVM, … \n",
    "- métricas (area under the ROC curve, f1-score, accuracy, matriz de confusão média)\n",
    "- para ajustar os parâmetros das máquinas de aprendizagem usar grid-search ou escolher os parâmetros e justificar\n",
    "\n",
    "O relatório final deve conter pelo menos as seguintes informações:\n",
    "1. Introdução\n",
    "2. Algoritmos de Aprendizagem de Máquina\n",
    "3. Experimentos  \n",
    "    3.1. Banco de dados  \n",
    "    3.2. Métricas  \n",
    "    3.3. Resultados   \n",
    "4. Conclusões\n",
    "5. Referências"
   ]
  },
  {
   "cell_type": "code",
   "execution_count": 167,
   "id": "b2b519f0",
   "metadata": {},
   "outputs": [],
   "source": [
    "data = openml\\\n",
    "        .datasets\\\n",
    "        .get_dataset(46, download_data=True, download_qualities=True, download_features_meta_data=True)\n",
    "\n",
    "df = data.get_data()[0]"
   ]
  },
  {
   "cell_type": "code",
   "execution_count": 168,
   "id": "ee66fa19",
   "metadata": {},
   "outputs": [
    {
     "data": {
      "text/plain": [
       "OpenML Dataset\n",
       "==============\n",
       "Name..........: splice\n",
       "Version.......: 1\n",
       "Format........: ARFF\n",
       "Upload Date...: 2014-04-06 23:22:49\n",
       "Licence.......: Public\n",
       "Download URL..: https://api.openml.org/data/v1/download/46/splice.arff\n",
       "OpenML URL....: https://www.openml.org/d/46\n",
       "# of features.: 61\n",
       "# of instances: 3190"
      ]
     },
     "execution_count": 168,
     "metadata": {},
     "output_type": "execute_result"
    }
   ],
   "source": [
    "data"
   ]
  },
  {
   "cell_type": "code",
   "execution_count": 169,
   "id": "edb0dd1f",
   "metadata": {},
   "outputs": [
    {
     "data": {
      "text/html": [
       "<div>\n",
       "<style scoped>\n",
       "    .dataframe tbody tr th:only-of-type {\n",
       "        vertical-align: middle;\n",
       "    }\n",
       "\n",
       "    .dataframe tbody tr th {\n",
       "        vertical-align: top;\n",
       "    }\n",
       "\n",
       "    .dataframe thead th {\n",
       "        text-align: right;\n",
       "    }\n",
       "</style>\n",
       "<table border=\"1\" class=\"dataframe\">\n",
       "  <thead>\n",
       "    <tr style=\"text-align: right;\">\n",
       "      <th></th>\n",
       "      <th>attribute_1</th>\n",
       "      <th>attribute_2</th>\n",
       "      <th>attribute_3</th>\n",
       "      <th>attribute_4</th>\n",
       "      <th>attribute_5</th>\n",
       "      <th>attribute_6</th>\n",
       "      <th>attribute_7</th>\n",
       "      <th>attribute_8</th>\n",
       "      <th>attribute_9</th>\n",
       "      <th>attribute_10</th>\n",
       "      <th>...</th>\n",
       "      <th>attribute_52</th>\n",
       "      <th>attribute_53</th>\n",
       "      <th>attribute_54</th>\n",
       "      <th>attribute_55</th>\n",
       "      <th>attribute_56</th>\n",
       "      <th>attribute_57</th>\n",
       "      <th>attribute_58</th>\n",
       "      <th>attribute_59</th>\n",
       "      <th>attribute_60</th>\n",
       "      <th>Class</th>\n",
       "    </tr>\n",
       "  </thead>\n",
       "  <tbody>\n",
       "    <tr>\n",
       "      <th>0</th>\n",
       "      <td>C</td>\n",
       "      <td>C</td>\n",
       "      <td>A</td>\n",
       "      <td>G</td>\n",
       "      <td>C</td>\n",
       "      <td>T</td>\n",
       "      <td>G</td>\n",
       "      <td>C</td>\n",
       "      <td>A</td>\n",
       "      <td>T</td>\n",
       "      <td>...</td>\n",
       "      <td>G</td>\n",
       "      <td>C</td>\n",
       "      <td>C</td>\n",
       "      <td>A</td>\n",
       "      <td>G</td>\n",
       "      <td>T</td>\n",
       "      <td>C</td>\n",
       "      <td>T</td>\n",
       "      <td>G</td>\n",
       "      <td>EI</td>\n",
       "    </tr>\n",
       "    <tr>\n",
       "      <th>1</th>\n",
       "      <td>A</td>\n",
       "      <td>G</td>\n",
       "      <td>A</td>\n",
       "      <td>C</td>\n",
       "      <td>C</td>\n",
       "      <td>C</td>\n",
       "      <td>G</td>\n",
       "      <td>C</td>\n",
       "      <td>C</td>\n",
       "      <td>G</td>\n",
       "      <td>...</td>\n",
       "      <td>T</td>\n",
       "      <td>G</td>\n",
       "      <td>C</td>\n",
       "      <td>C</td>\n",
       "      <td>C</td>\n",
       "      <td>C</td>\n",
       "      <td>C</td>\n",
       "      <td>G</td>\n",
       "      <td>C</td>\n",
       "      <td>EI</td>\n",
       "    </tr>\n",
       "    <tr>\n",
       "      <th>2</th>\n",
       "      <td>G</td>\n",
       "      <td>A</td>\n",
       "      <td>G</td>\n",
       "      <td>G</td>\n",
       "      <td>T</td>\n",
       "      <td>G</td>\n",
       "      <td>A</td>\n",
       "      <td>A</td>\n",
       "      <td>G</td>\n",
       "      <td>G</td>\n",
       "      <td>...</td>\n",
       "      <td>A</td>\n",
       "      <td>C</td>\n",
       "      <td>G</td>\n",
       "      <td>G</td>\n",
       "      <td>G</td>\n",
       "      <td>G</td>\n",
       "      <td>A</td>\n",
       "      <td>T</td>\n",
       "      <td>G</td>\n",
       "      <td>EI</td>\n",
       "    </tr>\n",
       "    <tr>\n",
       "      <th>3</th>\n",
       "      <td>G</td>\n",
       "      <td>G</td>\n",
       "      <td>G</td>\n",
       "      <td>C</td>\n",
       "      <td>T</td>\n",
       "      <td>G</td>\n",
       "      <td>C</td>\n",
       "      <td>G</td>\n",
       "      <td>T</td>\n",
       "      <td>T</td>\n",
       "      <td>...</td>\n",
       "      <td>G</td>\n",
       "      <td>T</td>\n",
       "      <td>T</td>\n",
       "      <td>T</td>\n",
       "      <td>T</td>\n",
       "      <td>C</td>\n",
       "      <td>C</td>\n",
       "      <td>C</td>\n",
       "      <td>C</td>\n",
       "      <td>EI</td>\n",
       "    </tr>\n",
       "    <tr>\n",
       "      <th>4</th>\n",
       "      <td>G</td>\n",
       "      <td>C</td>\n",
       "      <td>T</td>\n",
       "      <td>C</td>\n",
       "      <td>A</td>\n",
       "      <td>G</td>\n",
       "      <td>C</td>\n",
       "      <td>C</td>\n",
       "      <td>C</td>\n",
       "      <td>C</td>\n",
       "      <td>...</td>\n",
       "      <td>C</td>\n",
       "      <td>T</td>\n",
       "      <td>T</td>\n",
       "      <td>G</td>\n",
       "      <td>A</td>\n",
       "      <td>C</td>\n",
       "      <td>C</td>\n",
       "      <td>C</td>\n",
       "      <td>T</td>\n",
       "      <td>EI</td>\n",
       "    </tr>\n",
       "  </tbody>\n",
       "</table>\n",
       "<p>5 rows × 61 columns</p>\n",
       "</div>"
      ],
      "text/plain": [
       "  attribute_1 attribute_2 attribute_3 attribute_4 attribute_5 attribute_6  \\\n",
       "0           C           C           A           G           C           T   \n",
       "1           A           G           A           C           C           C   \n",
       "2           G           A           G           G           T           G   \n",
       "3           G           G           G           C           T           G   \n",
       "4           G           C           T           C           A           G   \n",
       "\n",
       "  attribute_7 attribute_8 attribute_9 attribute_10  ... attribute_52  \\\n",
       "0           G           C           A            T  ...            G   \n",
       "1           G           C           C            G  ...            T   \n",
       "2           A           A           G            G  ...            A   \n",
       "3           C           G           T            T  ...            G   \n",
       "4           C           C           C            C  ...            C   \n",
       "\n",
       "  attribute_53 attribute_54 attribute_55 attribute_56 attribute_57  \\\n",
       "0            C            C            A            G            T   \n",
       "1            G            C            C            C            C   \n",
       "2            C            G            G            G            G   \n",
       "3            T            T            T            T            C   \n",
       "4            T            T            G            A            C   \n",
       "\n",
       "  attribute_58 attribute_59 attribute_60 Class  \n",
       "0            C            T            G    EI  \n",
       "1            C            G            C    EI  \n",
       "2            A            T            G    EI  \n",
       "3            C            C            C    EI  \n",
       "4            C            C            T    EI  \n",
       "\n",
       "[5 rows x 61 columns]"
      ]
     },
     "execution_count": 169,
     "metadata": {},
     "output_type": "execute_result"
    }
   ],
   "source": [
    "df.head()"
   ]
  },
  {
   "cell_type": "code",
   "execution_count": 170,
   "id": "701c3c9d",
   "metadata": {},
   "outputs": [
    {
     "data": {
      "text/plain": [
       "C    50300\n",
       "G    50245\n",
       "T    46308\n",
       "A    44487\n",
       "N       56\n",
       "D        2\n",
       "R        1\n",
       "S        1\n",
       "Name: value, dtype: int64"
      ]
     },
     "execution_count": 170,
     "metadata": {},
     "output_type": "execute_result"
    }
   ],
   "source": [
    "#contagem das bases\n",
    "cols = df.iloc[:,:-1]\n",
    "cols.melt()['value'].value_counts()"
   ]
  },
  {
   "cell_type": "code",
   "execution_count": 171,
   "id": "c7d71d3a",
   "metadata": {},
   "outputs": [
    {
     "name": "stdout",
     "output_type": "stream",
     "text": [
      "Existem 15 linhas com bases ambíguas (N, D, R ou S).\n"
     ]
    }
   ],
   "source": [
    "#verificação de quantas instâncias possuem as bases ambíguas (N, D, R, S)\n",
    "\n",
    "#instâncias que contém N, D, R ou S entre as features\n",
    "idx_ndrs = df.iloc[:,:-1]\\\n",
    "             .isin([\"N\", \"D\", \"R\", \"S\"])\\\n",
    "             .any(axis=1) \n",
    "\n",
    "print(f\"Existem {len(df[idx_ndrs])} linhas com bases ambíguas (N, D, R ou S).\")"
   ]
  },
  {
   "cell_type": "markdown",
   "id": "24d561d5",
   "metadata": {},
   "source": [
    "# Avaliação das classes target"
   ]
  },
  {
   "cell_type": "code",
   "execution_count": 172,
   "id": "031db77d",
   "metadata": {},
   "outputs": [
    {
     "data": {
      "text/plain": [
       "N     1655\n",
       "IE     768\n",
       "EI     767\n",
       "Name: Class, dtype: int64"
      ]
     },
     "execution_count": 172,
     "metadata": {},
     "output_type": "execute_result"
    }
   ],
   "source": [
    "df['Class'].value_counts()"
   ]
  },
  {
   "cell_type": "code",
   "execution_count": 173,
   "id": "c9eca509",
   "metadata": {},
   "outputs": [
    {
     "data": {
      "text/plain": [
       "<Axes: >"
      ]
     },
     "execution_count": 173,
     "metadata": {},
     "output_type": "execute_result"
    },
    {
     "data": {
      "image/png": "[encoded data removed]",
      "text/plain": [
       "<Figure size 640x480 with 1 Axes>"
      ]
     },
     "metadata": {},
     "output_type": "display_data"
    }
   ],
   "source": [
    "df['Class'].hist()"
   ]
  },
  {
   "cell_type": "markdown",
   "id": "580225bc",
   "metadata": {},
   "source": [
    "# Preparo do dataset"
   ]
  },
  {
   "cell_type": "code",
   "execution_count": 174,
   "id": "b0cedddf",
   "metadata": {},
   "outputs": [],
   "source": [
    "#remoção das instâncias com bases ambíguas\n",
    "\n",
    "df = df[~idx_ndrs]"
   ]
  },
  {
   "cell_type": "code",
   "execution_count": 175,
   "id": "3d17082c",
   "metadata": {},
   "outputs": [],
   "source": [
    "#converter colunas para categorical\n",
    "for col in df.columns:\n",
    "    df[col] = df[col].cat.remove_unused_categories()"
   ]
  },
  {
   "cell_type": "markdown",
   "id": "57852934",
   "metadata": {},
   "source": [
    "# Encoding das features e targets"
   ]
  },
  {
   "cell_type": "code",
   "execution_count": 176,
   "id": "04cf8f72",
   "metadata": {},
   "outputs": [],
   "source": [
    "from sklearn.compose import ColumnTransformer\n",
    "from sklearn.preprocessing import LabelEncoder, OneHotEncoder, OrdinalEncoder\n",
    "\n",
    "F = df.columns[:-1].to_list()\n",
    "T = df.columns[-1]\n",
    "\n",
    "ct = ColumnTransformer([\n",
    "    ('ohe', OneHotEncoder(), F),\n",
    "    ('oe', OrdinalEncoder(), [T]) #para este caso, LabelEncoder == OrdinalEncoder\n",
    "])"
   ]
  },
  {
   "cell_type": "code",
   "execution_count": 177,
   "id": "08d63c19",
   "metadata": {},
   "outputs": [],
   "source": [
    "encoded = ct.fit_transform(df).toarray()"
   ]
  },
  {
   "cell_type": "code",
   "execution_count": 234,
   "id": "d5c40fed",
   "metadata": {},
   "outputs": [],
   "source": []
  },
  {
   "cell_type": "markdown",
   "id": "50826886",
   "metadata": {},
   "source": [
    "# Divisão treino-teste\n",
    "80% treino, 20% teste"
   ]
  },
  {
   "cell_type": "code",
   "execution_count": 178,
   "id": "79ef86a8",
   "metadata": {},
   "outputs": [],
   "source": [
    "from sklearn.model_selection import train_test_split\n",
    "\n",
    "X = encoded[:, :-1]\n",
    "y = encoded[:, -1]\n",
    "\n",
    "X_train, X_test, y_train, y_test = train_test_split(X, y, test_size=0.2, random_state=rs)"
   ]
  },
  {
   "cell_type": "code",
   "execution_count": 179,
   "id": "a9c80aee",
   "metadata": {},
   "outputs": [],
   "source": [
    "# nessa parte, é necessário estratificar? As classes já parecem razoavelmente distribuídas"
   ]
  },
  {
   "cell_type": "code",
   "execution_count": 180,
   "id": "0d0a3261",
   "metadata": {},
   "outputs": [
    {
     "data": {
      "text/plain": [
       "2.0    0.516929\n",
       "1.0    0.243307\n",
       "0.0    0.239764\n",
       "dtype: float64"
      ]
     },
     "execution_count": 180,
     "metadata": {},
     "output_type": "execute_result"
    }
   ],
   "source": [
    "pd.Series(y_train).value_counts(normalize=True)"
   ]
  },
  {
   "cell_type": "code",
   "execution_count": 181,
   "id": "30fa0eae",
   "metadata": {},
   "outputs": [
    {
     "data": {
      "text/plain": [
       "2.0    0.527559\n",
       "0.0    0.240945\n",
       "1.0    0.231496\n",
       "dtype: float64"
      ]
     },
     "execution_count": 181,
     "metadata": {},
     "output_type": "execute_result"
    }
   ],
   "source": [
    "pd.Series(y_test).value_counts(normalize=True)"
   ]
  },
  {
   "cell_type": "markdown",
   "id": "5e2522e5",
   "metadata": {},
   "source": [
    "# Classificadores e parâmetros para busca\n",
    "- kNN, DT, MLP, NB, SVM"
   ]
  },
  {
   "cell_type": "code",
   "execution_count": 182,
   "id": "ab5a5265",
   "metadata": {},
   "outputs": [],
   "source": [
    "from sklearn.neighbors import KNeighborsClassifier\n",
    "from sklearn.tree import DecisionTreeClassifier\n",
    "from sklearn.neural_network import MLPClassifier\n",
    "from sklearn.naive_bayes import BernoulliNB\n",
    "from sklearn.svm import SVC\n",
    "\n",
    "from sklearn.metrics import f1_score, accuracy_score, roc_auc_score, roc_curve"
   ]
  },
  {
   "cell_type": "code",
   "execution_count": 183,
   "id": "6f0c66be",
   "metadata": {},
   "outputs": [],
   "source": [
    "estimators = {'knn': KNeighborsClassifier(), \n",
    "              'dt': DecisionTreeClassifier(),\n",
    "              'mlp': MLPClassifier(),\n",
    "              'nb': BernoulliNB(),\n",
    "              'svm': SVC(probability=True)}"
   ]
  },
  {
   "cell_type": "code",
   "execution_count": 184,
   "id": "29cf165a",
   "metadata": {
    "scrolled": false
   },
   "outputs": [
    {
     "name": "stdout",
     "output_type": "stream",
     "text": [
      "Parâmetros padrões para KNeighborsClassifier(): \n",
      "{'algorithm': 'auto', 'leaf_size': 30, 'metric': 'minkowski', 'metric_params': None, 'n_jobs': None, 'n_neighbors': 5, 'p': 2, 'weights': 'uniform'}\n",
      "\n",
      "Parâmetros padrões para DecisionTreeClassifier(): \n",
      "{'ccp_alpha': 0.0, 'class_weight': None, 'criterion': 'gini', 'max_depth': None, 'max_features': None, 'max_leaf_nodes': None, 'min_impurity_decrease': 0.0, 'min_samples_leaf': 1, 'min_samples_split': 2, 'min_weight_fraction_leaf': 0.0, 'random_state': None, 'splitter': 'best'}\n",
      "\n",
      "Parâmetros padrões para MLPClassifier(): \n",
      "{'activation': 'relu', 'alpha': 0.0001, 'batch_size': 'auto', 'beta_1': 0.9, 'beta_2': 0.999, 'early_stopping': False, 'epsilon': 1e-08, 'hidden_layer_sizes': (100,), 'learning_rate': 'constant', 'learning_rate_init': 0.001, 'max_fun': 15000, 'max_iter': 200, 'momentum': 0.9, 'n_iter_no_change': 10, 'nesterovs_momentum': True, 'power_t': 0.5, 'random_state': None, 'shuffle': True, 'solver': 'adam', 'tol': 0.0001, 'validation_fraction': 0.1, 'verbose': False, 'warm_start': False}\n",
      "\n",
      "Parâmetros padrões para BernoulliNB(): \n",
      "{'alpha': 1.0, 'binarize': 0.0, 'class_prior': None, 'fit_prior': True, 'force_alpha': 'warn'}\n",
      "\n",
      "Parâmetros padrões para SVC(probability=True): \n",
      "{'C': 1.0, 'break_ties': False, 'cache_size': 200, 'class_weight': None, 'coef0': 0.0, 'decision_function_shape': 'ovr', 'degree': 3, 'gamma': 'scale', 'kernel': 'rbf', 'max_iter': -1, 'probability': True, 'random_state': None, 'shrinking': True, 'tol': 0.001, 'verbose': False}\n",
      "\n"
     ]
    }
   ],
   "source": [
    "#listagem de hiperparâmetros\n",
    "\n",
    "for a, b in estimators.items():\n",
    "    print(\"Parâmetros padrões para {}: \\n{}\\n\".format(b, b.get_params()))"
   ]
  },
  {
   "cell_type": "code",
   "execution_count": 185,
   "id": "fca9e73a",
   "metadata": {},
   "outputs": [],
   "source": [
    "#parâmetros para busca\n",
    "\n",
    "param_grid = {\n",
    "    \n",
    "    'knn': [{\n",
    "        'metric': ['minkowski'],\n",
    "        'p': [1,2],\n",
    "        'n_neighbors': [5, 7, 9, 11, 13, 15, 17, 19, 20, 30, 40, 50, 60, 70]\n",
    "    },\n",
    "    {\n",
    "        'metric': ['hamming'],\n",
    "        'n_neighbors': [5, 7, 9, 11, 13, 15, 17, 19, 20, 30, 40, 50, 60, 70]\n",
    "    }],\n",
    "    \n",
    "    'dt': {\n",
    "        'criterion': [\"gini\", \"entropy\"],\n",
    "        'min_samples_leaf': [1, 2, 3]\n",
    "    },\n",
    "    \n",
    "    'mlp': {\n",
    "        'alpha': [0.01, 0.05, 0.1, 0.2]\n",
    "    },\n",
    "    \n",
    "    'nb': {\n",
    "        'alpha': [0.001, 0.01, 0.1, 1, 2, 10]\n",
    "    },\n",
    "\n",
    "    'svm': [{\n",
    "        'C': [1, 2, 5, 10],\n",
    "        'kernel': ['linear', 'rbf']\n",
    "        },\n",
    "        {\n",
    "        'C': [1, 2, 5, 10],\n",
    "        'kernel': ['poly'],\n",
    "        'degree': [2, 3]\n",
    "    }]\n",
    "\n",
    "}\n"
   ]
  },
  {
   "cell_type": "markdown",
   "id": "4e13cee7",
   "metadata": {},
   "source": [
    "# 10-fold stratified cross-validation"
   ]
  },
  {
   "cell_type": "code",
   "execution_count": 186,
   "id": "770d4469",
   "metadata": {},
   "outputs": [],
   "source": [
    "from sklearn.model_selection import StratifiedKFold\n",
    "\n",
    "cv = StratifiedKFold(n_splits=10, shuffle=True, random_state=rs)"
   ]
  },
  {
   "cell_type": "markdown",
   "id": "105bd39d",
   "metadata": {},
   "source": [
    "# Baseline"
   ]
  },
  {
   "cell_type": "code",
   "execution_count": 187,
   "id": "e45d659c",
   "metadata": {},
   "outputs": [
    {
     "name": "stderr",
     "output_type": "stream",
     "text": [
      "2023/07/26 23:10:23 INFO mlflow.utils.autologging_utils: Created MLflow autologging run with ID 'eeb4bb33fac44e7fbaffe914d0943842', which will track hyperparameters, performance metrics, model artifacts, and lineage information for the current sklearn workflow\n",
      "C:\\Users\\Caio\\anaconda3\\lib\\site-packages\\sklearn\\metrics\\_classification.py:1344: UndefinedMetricWarning: Precision is ill-defined and being set to 0.0 in labels with no predicted samples. Use `zero_division` parameter to control this behavior.\n",
      "  _warn_prf(average, modifier, msg_start, len(result))\n",
      "2023/07/26 23:10:27 INFO mlflow.utils.autologging_utils: Created MLflow autologging run with ID 'bdb8f4050b6641f4a264802f75db6107', which will track hyperparameters, performance metrics, model artifacts, and lineage information for the current sklearn workflow\n"
     ]
    }
   ],
   "source": [
    "from sklearn.dummy import DummyClassifier\n",
    "\n",
    "dummy_clf_1 = DummyClassifier(strategy=\"most_frequent\").fit(X_train, y_train)\n",
    "y_d1 = dummy_clf_1.predict(X_test)\n",
    "\n",
    "dummy_clf_2 = DummyClassifier(strategy=\"stratified\").fit(X_train, y_train)\n",
    "y_d2 = dummy_clf_2.predict(X_test)"
   ]
  },
  {
   "cell_type": "code",
   "execution_count": 188,
   "id": "d5f6a6e0",
   "metadata": {},
   "outputs": [
    {
     "name": "stdout",
     "output_type": "stream",
     "text": [
      "Baseline de acurácia (prever o mais frequente) = 0.5275590551181102\n",
      "Baseline de acurácia (prever aleatoriamente na mesma proporção) = 0.4\n"
     ]
    }
   ],
   "source": [
    "print(f\"Baseline de acurácia (prever o mais frequente) = {accuracy_score(y_d1, y_test)}\")\n",
    "print(f\"Baseline de acurácia (prever aleatoriamente na mesma proporção) = {accuracy_score(y_d2, y_test)}\")"
   ]
  },
  {
   "cell_type": "code",
   "execution_count": 189,
   "id": "6ee46856",
   "metadata": {},
   "outputs": [
    {
     "name": "stdout",
     "output_type": "stream",
     "text": [
      "Baseline de f1_score (prever o mais frequente) = 0.23024054982817868\n",
      "Baseline de f1_score (prever aleatoriamente na mesma proporção) = 0.34106575593203897\n"
     ]
    }
   ],
   "source": [
    "print(f\"Baseline de f1_score (prever o mais frequente) = {f1_score(y_d1, y_test, average='macro')}\")\n",
    "print(f\"Baseline de f1_score (prever aleatoriamente na mesma proporção) = {f1_score(y_d2, y_test, average='macro')}\")"
   ]
  },
  {
   "cell_type": "markdown",
   "id": "7a1d7368",
   "metadata": {},
   "source": [
    "# Início tracking MLflow"
   ]
  },
  {
   "cell_type": "code",
   "execution_count": 190,
   "id": "ade1504f",
   "metadata": {},
   "outputs": [],
   "source": [
    "import mlflow\n",
    "import mlflow.sklearn"
   ]
  },
  {
   "cell_type": "code",
   "execution_count": 191,
   "id": "19d69bea",
   "metadata": {},
   "outputs": [],
   "source": [
    "!start /b mlflow ui"
   ]
  },
  {
   "cell_type": "code",
   "execution_count": 192,
   "id": "5634529f",
   "metadata": {},
   "outputs": [],
   "source": [
    "mlflow.sklearn.autolog()"
   ]
  },
  {
   "cell_type": "code",
   "execution_count": 193,
   "id": "147e6232",
   "metadata": {},
   "outputs": [],
   "source": [
    "mlflow.set_tracking_uri(\"http://127.0.0.1:5000\")"
   ]
  },
  {
   "cell_type": "code",
   "execution_count": 194,
   "id": "b5a5ff91",
   "metadata": {},
   "outputs": [],
   "source": [
    "#função para gravar métricas de teste\n",
    "\n",
    "def log_eval_metrics(actual, pred, pred_proba, prefix='test_'):\n",
    "    \n",
    "    f1 = f1_score(actual, pred, average='macro')\n",
    "    acc = accuracy_score(actual, pred)\n",
    "    roc_auc = roc_auc_score(actual, pred_proba, multi_class='ovr', average='macro') #'ovr' ou 'ovo'\n",
    "    \n",
    "    mlflow.log_metric(prefix + 'f1_score', f1)\n",
    "    mlflow.log_metric(prefix + 'acc_score', acc)\n",
    "    mlflow.log_metric(prefix + 'roc_auc_score', roc_auc)\n",
    "    \n",
    "    return f1, acc, roc_auc"
   ]
  },
  {
   "cell_type": "markdown",
   "id": "6e7f0915",
   "metadata": {},
   "source": [
    "# Grid Search CV"
   ]
  },
  {
   "cell_type": "code",
   "execution_count": 195,
   "id": "d1642ed5",
   "metadata": {},
   "outputs": [],
   "source": [
    "from sklearn.metrics import accuracy_score, make_scorer\n",
    "\n",
    "metrics = {\"AUC\": make_scorer(roc_auc_score, multi_class='ovo', needs_proba=True),\n",
    "           \"Accuracy\": make_scorer(accuracy_score),\n",
    "           \"F1-Score\": make_scorer(f1_score, average='macro')}"
   ]
  },
  {
   "cell_type": "code",
   "execution_count": 196,
   "id": "b2aee6b7",
   "metadata": {},
   "outputs": [
    {
     "name": "stdout",
     "output_type": "stream",
     "text": [
      "Executando KNeighborsClassifier()...\n",
      "Fitting 10 folds for each of 42 candidates, totalling 420 fits\n"
     ]
    },
    {
     "name": "stderr",
     "output_type": "stream",
     "text": [
      "2023/07/26 23:11:04 WARNING mlflow.utils.autologging_utils: MLflow autologging encountered a warning: \"C:\\Users\\Caio\\AppData\\Roaming\\Python\\Python39\\site-packages\\mlflow\\sklearn\\utils.py:788: UserWarning: Top 5 child runs will be created based on ordering in rank_test_AUC column.  You can choose not to limit the number of child runs created by setting `max_tuning_runs=None`.\"\n",
      "2023/07/26 23:11:04 INFO mlflow.sklearn.utils: Logging the 5 best runs, 37 runs will be omitted.\n"
     ]
    },
    {
     "name": "stdout",
     "output_type": "stream",
     "text": [
      "Executando DecisionTreeClassifier()...\n",
      "Fitting 10 folds for each of 6 candidates, totalling 60 fits\n"
     ]
    },
    {
     "name": "stderr",
     "output_type": "stream",
     "text": [
      "2023/07/26 23:11:11 WARNING mlflow.utils.autologging_utils: MLflow autologging encountered a warning: \"C:\\Users\\Caio\\AppData\\Roaming\\Python\\Python39\\site-packages\\mlflow\\sklearn\\utils.py:788: UserWarning: Top 5 child runs will be created based on ordering in rank_test_AUC column.  You can choose not to limit the number of child runs created by setting `max_tuning_runs=None`.\"\n",
      "2023/07/26 23:11:11 INFO mlflow.sklearn.utils: Logging the 5 best runs, one run will be omitted.\n"
     ]
    },
    {
     "name": "stdout",
     "output_type": "stream",
     "text": [
      "Executando MLPClassifier()...\n",
      "Fitting 10 folds for each of 4 candidates, totalling 40 fits\n"
     ]
    },
    {
     "name": "stderr",
     "output_type": "stream",
     "text": [
      "2023/07/26 23:11:42 WARNING mlflow.utils.autologging_utils: MLflow autologging encountered a warning: \"C:\\Users\\Caio\\AppData\\Roaming\\Python\\Python39\\site-packages\\mlflow\\sklearn\\utils.py:788: UserWarning: Top 5 child runs will be created based on ordering in rank_test_AUC column.  You can choose not to limit the number of child runs created by setting `max_tuning_runs=None`.\"\n",
      "2023/07/26 23:11:42 INFO mlflow.sklearn.utils: Logging the 5 best runs, no runs will be omitted.\n"
     ]
    },
    {
     "name": "stdout",
     "output_type": "stream",
     "text": [
      "Executando BernoulliNB()...\n",
      "Fitting 10 folds for each of 6 candidates, totalling 60 fits\n"
     ]
    },
    {
     "name": "stderr",
     "output_type": "stream",
     "text": [
      "2023/07/26 23:11:49 WARNING mlflow.utils.autologging_utils: MLflow autologging encountered a warning: \"C:\\Users\\Caio\\AppData\\Roaming\\Python\\Python39\\site-packages\\mlflow\\sklearn\\utils.py:788: UserWarning: Top 5 child runs will be created based on ordering in rank_test_AUC column.  You can choose not to limit the number of child runs created by setting `max_tuning_runs=None`.\"\n",
      "2023/07/26 23:11:49 INFO mlflow.sklearn.utils: Logging the 5 best runs, one run will be omitted.\n"
     ]
    },
    {
     "name": "stdout",
     "output_type": "stream",
     "text": [
      "Executando SVC(probability=True)...\n",
      "Fitting 10 folds for each of 16 candidates, totalling 160 fits\n"
     ]
    },
    {
     "name": "stderr",
     "output_type": "stream",
     "text": [
      "2023/07/26 23:13:04 WARNING mlflow.utils.autologging_utils: MLflow autologging encountered a warning: \"C:\\Users\\Caio\\AppData\\Roaming\\Python\\Python39\\site-packages\\mlflow\\sklearn\\utils.py:788: UserWarning: Top 5 child runs will be created based on ordering in rank_test_AUC column.  You can choose not to limit the number of child runs created by setting `max_tuning_runs=None`.\"\n",
      "2023/07/26 23:13:04 INFO mlflow.sklearn.utils: Logging the 5 best runs, 11 runs will be omitted.\n"
     ]
    }
   ],
   "source": [
    "from sklearn.model_selection import GridSearchCV\n",
    "\n",
    "best_estimators = {}\n",
    "cv_results_train = {}\n",
    "results_test = {}\n",
    "\n",
    "mlflow.end_run()\n",
    "\n",
    "for est in estimators:\n",
    "    \n",
    "    est_name = str(estimators[est])\n",
    "    est_est = estimators[est]\n",
    "    est_params = param_grid[est]\n",
    "    \n",
    "    mlflow.start_run()\n",
    "    mlflow.set_tag('estimator', est_name)\n",
    "    \n",
    "    print(f\"Executando {est_name}...\")\n",
    "    \n",
    "    grid = GridSearchCV(estimator = est_est,\n",
    "                        param_grid = est_params,\n",
    "                        scoring = metrics,\n",
    "                        cv = cv,\n",
    "                        verbose=2,\n",
    "                        n_jobs=-1,\n",
    "                        refit=\"F1-Score\")\n",
    "    \n",
    "    grid.fit(X_train, y_train)\n",
    "    \n",
    "    cv_results_train[est] = grid.cv_results_\n",
    "    best_estimators[est] = grid.best_estimator_\n",
    "    \n",
    "    #predição\n",
    "    y_pred = grid.predict(X_test)\n",
    "    y_pred_proba = grid.predict_proba(X_test)\n",
    "    \n",
    "    results_test[est] = log_eval_metrics(y_test, y_pred, y_pred_proba)\n",
    "\n",
    "    mlflow.end_run()"
   ]
  },
  {
   "cell_type": "code",
   "execution_count": 197,
   "id": "a342ff57",
   "metadata": {},
   "outputs": [],
   "source": [
    "#funções auxiliares para gerar dataframes com métricas para análises\n",
    "\n",
    "import re\n",
    "\n",
    "def generate_train_metrics(table):\n",
    "    rt = table.copy()\n",
    "    for key in rt:\n",
    "        rt[key] = pd.DataFrame(rt[key])\n",
    "        discard_cols = [x for x in rt[key].columns if re.compile(r\"param_.*\").match(x)]\n",
    "        rt[key]['estimator_name'] = key\n",
    "        rt[key] = rt[key].drop(columns=discard_cols)\n",
    "    \n",
    "    return pd.concat(rt.values())\n",
    "\n",
    "def generate_test_metrics(table):\n",
    "    ans = pd.DataFrame(table).T\n",
    "    ans.columns = ['f1', 'acc', 'roc_auc']\n",
    "    return ans"
   ]
  },
  {
   "cell_type": "code",
   "execution_count": 198,
   "id": "4d676d97",
   "metadata": {},
   "outputs": [],
   "source": [
    "train_metrics_df = generate_train_metrics(cv_results_train)\n",
    "test_metrics_df = generate_test_metrics(results_test)"
   ]
  },
  {
   "cell_type": "code",
   "execution_count": 199,
   "id": "30c8415f",
   "metadata": {},
   "outputs": [
    {
     "data": {
      "image/png": "[encoded data removed]",
      "text/plain": [
       "<Figure size 640x480 with 1 Axes>"
      ]
     },
     "metadata": {},
     "output_type": "display_data"
    }
   ],
   "source": [
    "#potencialmente existe algum erro de cálculo nos scors do SVM\n",
    "sns.scatterplot(x='mean_test_AUC', y='mean_test_F1-Score', data=results_df, hue='estimator_name')\n",
    "plt.title(\"AUC x F1 Score (treino)\")\n",
    "plt.show()"
   ]
  },
  {
   "cell_type": "code",
   "execution_count": 200,
   "id": "3b9ed092",
   "metadata": {},
   "outputs": [
    {
     "data": {
      "image/png": "[encoded data removed]",
      "text/plain": [
       "<Figure size 640x480 with 1 Axes>"
      ]
     },
     "metadata": {},
     "output_type": "display_data"
    }
   ],
   "source": [
    "sns.scatterplot(x='mean_test_F1-Score', y='mean_test_Accuracy', data=results_df, hue='estimator_name')\n",
    "plt.title(\"F1 Score x Accuracy (treino)\")\n",
    "plt.show()"
   ]
  },
  {
   "cell_type": "code",
   "execution_count": 201,
   "id": "483fd489",
   "metadata": {},
   "outputs": [
    {
     "data": {
      "text/plain": [
       "Text(0.5, 1.0, 'Métricas (validação)')"
      ]
     },
     "execution_count": 201,
     "metadata": {},
     "output_type": "execute_result"
    },
    {
     "data": {
      "image/png": "[encoded data removed]",
      "text/plain": [
       "<Figure size 640x480 with 1 Axes>"
      ]
     },
     "metadata": {},
     "output_type": "display_data"
    }
   ],
   "source": [
    "test_metrics_df.plot(marker='o')\n",
    "plt.title(\"Métricas (validação)\")"
   ]
  },
  {
   "cell_type": "code",
   "execution_count": 253,
   "id": "22e2058d",
   "metadata": {},
   "outputs": [
    {
     "data": {
      "image/png": "[encoded data removed]",
      "text/plain": [
       "<Figure size 1500x300 with 5 Axes>"
      ]
     },
     "metadata": {},
     "output_type": "display_data"
    }
   ],
   "source": [
    "from sklearn.metrics import confusion_matrix\n",
    "\n",
    "conf_mats = [confusion_matrix(y_test, b.predict(X_test)) for b in best_estimators.values()]\n",
    "labels = list(estimators.keys())\n",
    "classes = ct.transformers_[1][1].categories_[0].tolist()\n",
    "\n",
    "fig, ax = plt.subplots(1,5, figsize=(15,3))\n",
    "\n",
    "for i, cm in enumerate(conf_mats):\n",
    "    sns.heatmap(cm, annot=True, fmt=\"\", cbar=False, ax=ax[i])\n",
    "    ax[i].set_xticklabels(classes)\n",
    "    ax[i].set_yticklabels(classes)\n",
    "    ax[i].set_title(labels[i])"
   ]
  }
 ],
 "metadata": {
  "kernelspec": {
   "display_name": "Python 3 (ipykernel)",
   "language": "python",
   "name": "python3"
  },
  "language_info": {
   "codemirror_mode": {
    "name": "ipython",
    "version": 3
   },
   "file_extension": ".py",
   "mimetype": "text/x-python",
   "name": "python",
   "nbconvert_exporter": "python",
   "pygments_lexer": "ipython3",
   "version": "3.9.17"
  }
 },
 "nbformat": 4,
 "nbformat_minor": 5
}
